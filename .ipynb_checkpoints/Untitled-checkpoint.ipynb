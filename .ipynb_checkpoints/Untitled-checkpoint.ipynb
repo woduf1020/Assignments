{
 "cells": [
  {
   "cell_type": "code",
   "execution_count": 5,
   "id": "c0eb20c8-71c8-4183-ae9e-69dec84140e0",
   "metadata": {},
   "outputs": [
    {
     "name": "stdin",
     "output_type": "stream",
     "text": [
      " hello\n"
     ]
    },
    {
     "name": "stdout",
     "output_type": "stream",
     "text": [
      "HELLO,HELLO,HELLO,HELLO,HELLO\n"
     ]
    }
   ],
   "source": [
    "\n",
    "user_input = input()\n",
    "#출력값 공백 선언\n",
    "result = \"\"\n",
    "#문자열 길이만큼 반복하여 출력값에 대문자를 삽입\n",
    "for i in range(len(user_input)):\n",
    "    result += user_input.upper()\n",
    "    result += \",\"\n",
    "#마지막 콤마 제거\n",
    "result=result[:-1]\n",
    "print(result)"
   ]
  },
  {
   "cell_type": "code",
   "execution_count": 15,
   "id": "e7092c71-ca7a-43a3-9d37-66af965c9f17",
   "metadata": {},
   "outputs": [
    {
     "name": "stdin",
     "output_type": "stream",
     "text": [
      " 3\n"
     ]
    },
    {
     "name": "stdout",
     "output_type": "stream",
     "text": [
      "1 1\n",
      "2 8\n",
      "3 27\n"
     ]
    }
   ],
   "source": [
    "user_input = input()\n",
    "for i in range(1,int(user_input)+1):\n",
    "    print(str(i)+\" \"+str(i*i*i))\n",
    "    "
   ]
  },
  {
   "cell_type": "code",
   "execution_count": 19,
   "id": "91392d41-2d37-4611-bfb5-b62fe5b22079",
   "metadata": {},
   "outputs": [
    {
     "name": "stdin",
     "output_type": "stream",
     "text": [
      " af\n",
      " df\n",
      " fds\n",
      " \n"
     ]
    },
    {
     "name": "stdout",
     "output_type": "stream",
     "text": [
      "afdffds\n"
     ]
    }
   ],
   "source": [
    "result =\"\"\n",
    "#공백이 입력될 떄 까지 반복해서 입력받아 이어붙힘\n",
    "while True:\n",
    "    user_input = input()\n",
    "    if user_input == \"\":\n",
    "        break\n",
    "    result += user_input\n",
    "\n",
    "print(result)"
   ]
  },
  {
   "cell_type": "code",
   "execution_count": 21,
   "id": "ae0c2485-61ea-4fb4-8f01-0fa52a9e45c4",
   "metadata": {},
   "outputs": [
    {
     "name": "stdin",
     "output_type": "stream",
     "text": [
      " 30 60\n",
      " 45 30 60 25 50 -999\n"
     ]
    },
    {
     "name": "stdout",
     "output_type": "stream",
     "text": [
      "Humidity OK\n",
      "Humidity OK\n",
      "Humidity OK\n",
      "Warning!\n"
     ]
    }
   ],
   "source": [
    "#최대습도, 최소습도 입력\n",
    "min_input, max_input = map(int, input().split())\n",
    "#습도값 배열 입력\n",
    "humidity_input = list(map(int, input().split()))\n",
    "for i in humidity_input:\n",
    "    #-999가 입력되면 중지\n",
    "    if i==-999:\n",
    "        break\n",
    "    #습도가 범위 내 라면 확인출력\n",
    "    if min_input <= i <= max_input:\n",
    "        print(\"Humidity OK\")\n",
    "    #범위 내가 아니라면 경고 출력\n",
    "    else:\n",
    "        print(\"Warning!\")\n",
    "        break"
   ]
  },
  {
   "cell_type": "code",
   "execution_count": 27,
   "id": "a407805a-7698-4afe-82c8-561eedede2be",
   "metadata": {},
   "outputs": [
    {
     "name": "stdout",
     "output_type": "stream",
     "text": [
      "aaaa\n"
     ]
    }
   ],
   "source": [
    "def repeat_n_times(x,n):\n",
    "    #string도 *int 연산이 가능한것을 확인\n",
    "    print(x*n)\n",
    "if __name__==\"__main__\":\n",
    "    repeat_n_times('a',4)\n",
    "    "
   ]
  },
  {
   "cell_type": "code",
   "execution_count": 29,
   "id": "c2624cf8-9a84-4b62-ae45-0e5b9be313f8",
   "metadata": {},
   "outputs": [
    {
     "data": {
      "text/plain": [
       "15"
      ]
     },
     "execution_count": 29,
     "metadata": {},
     "output_type": "execute_result"
    }
   ],
   "source": [
    "multiply_by_n = lambda n: lambda x: x * n\n",
    "tripler=multiply_by_n(3)\n",
    "tripler(5)"
   ]
  },
  {
   "cell_type": "code",
   "execution_count": 33,
   "id": "9fad3fc0-230d-4297-9915-2ea5aa6d9cf2",
   "metadata": {},
   "outputs": [
    {
     "name": "stdout",
     "output_type": "stream",
     "text": [
      "['1', '2', '3', '4', '5']\n"
     ]
    }
   ],
   "source": [
    "target = [1, 2, 3, 4, 5]\n",
    "result = list(map(lambda x: str(x), target))\n",
    "print(result)"
   ]
  },
  {
   "cell_type": "code",
   "execution_count": 35,
   "id": "e7c69d99-8eba-4e38-a472-e6d3489d739d",
   "metadata": {},
   "outputs": [
    {
     "name": "stdout",
     "output_type": "stream",
     "text": [
      "['1', '-2', '9', '-4', '25']\n"
     ]
    }
   ],
   "source": [
    "def your_function(target):\n",
    "    return list(map(lambda x: str(x**2) if x>0 else str(x), target))\n",
    "target = [1, -2, 3, -4, 5]\n",
    "result = your_function(target)\n",
    "print(result)\n"
   ]
  },
  {
   "cell_type": "code",
   "execution_count": 42,
   "id": "5f0d5a68-d707-42fc-8c46-d4cd3a1b40e3",
   "metadata": {},
   "outputs": [
    {
     "name": "stdout",
     "output_type": "stream",
     "text": [
      "과속입니다\n"
     ]
    }
   ],
   "source": [
    "speed = lambda x: print(\"과속입니다\") if x>50 else print(\"정상 속도입니다. 안전운행 하세요.\")\n",
    "speed(120)"
   ]
  },
  {
   "cell_type": "code",
   "execution_count": 46,
   "id": "69e2dadd-2ed8-474b-86d6-4c7295ca4993",
   "metadata": {},
   "outputs": [
    {
     "name": "stdin",
     "output_type": "stream",
     "text": [
      " 4\n"
     ]
    },
    {
     "name": "stdout",
     "output_type": "stream",
     "text": [
      "버스타세요\n",
      "수고하셨습니다\n"
     ]
    }
   ],
   "source": [
    "Distance=int(input())\n",
    "if(Distance>=10):\n",
    "    print(\"택시타세요\")\n",
    "elif(10>Distance>=3):\n",
    "    print(\"버스타세요\")\n",
    "else:\n",
    "    print(\"걸어가세요\")\n",
    "\n",
    "print(\"수고하셨습니다\")"
   ]
  },
  {
   "cell_type": "code",
   "execution_count": 48,
   "id": "6b3029da-8608-4e1c-9d36-fe9fd4374764",
   "metadata": {},
   "outputs": [
    {
     "name": "stdout",
     "output_type": "stream",
     "text": [
      "[['삼성전자', '삼성생명', '삼성화재'], ['LG전자', 'LG화학'], ['SKT', 'SK바이오사이언스'], ['셀트리온']]\n",
      "[['삼성전자', '삼성생명', '삼성화재'], ['LG전자', 'LG화학'], ['SKT', 'SK바이오사이언스'], ['셀트리온', '종근당']]\n",
      "[['삼성전자', '삼성생명', '삼성화재'], ['LG전자', 'LG화학'], ['SKT', 'SK바이오사이언스']]\n",
      "['셀트리온', '종근당']\n"
     ]
    }
   ],
   "source": [
    "list = [['삼성전자', '삼성생명', '삼성화재'], ['LG전자', 'LG화학'], ['SKT', 'SK바이오사이언스'], ['셀트리온']]\n",
    "print(list)\n",
    "list[-1].append('종근당')\n",
    "print(list)\n",
    "last_item = list.pop()\n",
    "print(list)\n",
    "print(last_item)\n"
   ]
  },
  {
   "cell_type": "code",
   "execution_count": 54,
   "id": "21fe7b0a-c3bb-413d-9a99-46f490e73e1d",
   "metadata": {},
   "outputs": [
    {
     "name": "stdout",
     "output_type": "stream",
     "text": [
      "[95, 21, 31, 64, 74, 80, 54, 87, 7, 6, 100, 96, 47, 25, 16, 20, 48, 81, 75, 99, 45, 19, 63, 46, 59, 61, 17, 60, 44, 65, 29, 35, 38, 39, 4, 32, 42, 85, 83, 78, 92, 51, 68, 86, 72, 3, 98, 26, 56, 49]\n",
      "[3, 4, 6, 7, 16, 17, 19, 20, 21, 25, 26, 29, 31, 32, 35, 38, 39, 42, 44, 45, 46, 47, 48, 49, 51, 54, 56, 59, 60, 61, 63, 64, 65, 68, 72, 74, 75, 78, 80, 81, 83, 85, 86, 87, 92, 95, 96, 98, 99, 100]\n"
     ]
    }
   ],
   "source": [
    "import random\n",
    "numlist = range(1,101)\n",
    "s=random.sample(numlist,50)\n",
    "print(s)\n",
    "s.sort()\n",
    "print(s)"
   ]
  },
  {
   "cell_type": "code",
   "execution_count": 82,
   "id": "666293ee-7d32-41f9-a082-4a8ae6ff5498",
   "metadata": {},
   "outputs": [],
   "source": [
    "import glob\n",
    "import os\n",
    "\n",
    "def merge_files(directory, output_file, *args, **kwargs):\n",
    "    #glob을 통하여 txt, csv 확장자의 파일을 모두 찾음\n",
    "    files = glob.glob(os.path.join(directory, '*.txt')) + glob.glob(os.path.join(directory, '*csv'))\n",
    "    #start_header와 end_footer kwargs 설정\n",
    "    start_header=kwargs.get('start_header', None)\n",
    "    end_footer=kwargs.get('end_footer', None)\n",
    "    #출력 파일을 열기\n",
    "    with open(output_file, 'w') as outfile:\n",
    "        #start_header가 있다면 추가\n",
    "        if start_header:\n",
    "            outfile.write(start_header + '\\n')\n",
    "        #추가 헤더가 있다면 추가\n",
    "        if args:\n",
    "            outfile.write(' '.join(args)+'\\n')\n",
    "        #불러온 파일을 병합\n",
    "        for file in files:\n",
    "            with open(file, 'r') as infile:\n",
    "                content = infile.read()\n",
    "                outfile.write(content + '\\n')\n",
    "        #end_footer가 있다면 추가\n",
    "        if end_footer:\n",
    "            outfile.write(end_footer + '\\n')"
   ]
  },
  {
   "cell_type": "code",
   "execution_count": 84,
   "id": "fdd539ae-8db7-45b7-b5b2-057a90c3e5e6",
   "metadata": {},
   "outputs": [],
   "source": [
    "merge_files(\n",
    "    '', 'merged_output.txt', 'header1', 'header2', start_header=\"===start header===\", end_footer=\"===end of file===\")"
   ]
  }
 ],
 "metadata": {
  "kernelspec": {
   "display_name": "Python 3 (ipykernel)",
   "language": "python",
   "name": "python3"
  },
  "language_info": {
   "codemirror_mode": {
    "name": "ipython",
    "version": 3
   },
   "file_extension": ".py",
   "mimetype": "text/x-python",
   "name": "python",
   "nbconvert_exporter": "python",
   "pygments_lexer": "ipython3",
   "version": "3.12.7"
  }
 },
 "nbformat": 4,
 "nbformat_minor": 5
}
